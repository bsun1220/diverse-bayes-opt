{
 "cells": [
  {
   "cell_type": "code",
   "execution_count": 1,
   "id": "46fcebe6-f6d6-4bd3-8311-265b229452d3",
   "metadata": {},
   "outputs": [
    {
     "name": "stderr",
     "output_type": "stream",
     "text": [
      "/Users/bennysun/anaconda3/lib/python3.10/site-packages/tqdm/auto.py:22: TqdmWarning: IProgress not found. Please update jupyter and ipywidgets. See https://ipywidgets.readthedocs.io/en/stable/user_install.html\n",
      "  from .autonotebook import tqdm as notebook_tqdm\n"
     ]
    }
   ],
   "source": [
    "from dbo.simulator.TestFunctions import *\n",
    "from dbo.acquisition.DEI import DiverseExpectedImprovement\n",
    "from dbo.tester.Tester import *\n",
    "from dbo.metrics.ExperimentMetric import *\n",
    "from botorch.acquisition import ExpectedImprovement\n",
    "from dbo.plotter.Plotter import *"
   ]
  },
  {
   "cell_type": "code",
   "execution_count": null,
   "id": "71e3d490-cade-4c84-a805-41ab30538e75",
   "metadata": {},
   "outputs": [],
   "source": [
    "test = Tester(5, 20, 10)\n",
    "simulator_list = [Branin2DSimulator(), Griewank2DSimulator(), \n",
    "                  SixHumpCamel2DSimulator(), HolderTable2DSimulator(),  Gramacy2DSimulator()]\n",
    "\n",
    "acquisition_list = [(DiverseExpectedImprovement, {'lambda_':1, 'epsilon_':0.1}), \n",
    "                    (ExpectedImprovement, {\"maximize\":False})]\n",
    "\n",
    "experiment_list = test.perform_known_experiment(25, simulator_list, acquisition_list)"
   ]
  },
  {
   "cell_type": "code",
   "execution_count": null,
   "id": "8aea409d-5662-496a-93ed-8dac97eea3ae",
   "metadata": {},
   "outputs": [],
   "source": [
    "experiment_metric = ExperimentMetrics()\n",
    "df = experiment_metric.get_dataframe(experiment_list, 0.4)"
   ]
  },
  {
   "cell_type": "code",
   "execution_count": null,
   "id": "6eb0f536-8c6c-46b6-ac83-1649801fca15",
   "metadata": {},
   "outputs": [],
   "source": [
    "plotter = Plotter(experiment_list, 0.4)\n",
    "plotter.plot_feature('avg_dist')"
   ]
  },
  {
   "cell_type": "code",
   "execution_count": null,
   "id": "48b8eea5-ff71-4aac-b397-9b58dc887209",
   "metadata": {},
   "outputs": [],
   "source": [
    "plotter.plot_min_sol()"
   ]
  },
  {
   "cell_type": "code",
   "execution_count": null,
   "id": "f646f0fb-f80e-4f21-ba92-7a8688b142c3",
   "metadata": {},
   "outputs": [],
   "source": [
    "plotter.plot_scatter_2d(25)"
   ]
  },
  {
   "cell_type": "code",
   "execution_count": null,
   "id": "df9cad8e-d3da-4bbb-8213-df9b8173164b",
   "metadata": {},
   "outputs": [],
   "source": [
    "minima = {\n",
    "    'Branin2DSimulator':[np.array([-3.14, 12.275]), np.array([3.14, 2.275]), np.array([9.42, 2.475])],\n",
    "    'SixHumpCamel2DSimulator':[np.array([0.09, -0.71]), np.array([-0.09, 0.71])],\n",
    "    'Griewank2DSimulator':[np.array([0, 0])],\n",
    "    'Gramacy2DSimulator':[np.array([0.8, 0]), np.array([-0.8, 0])],\n",
    "    'HolderTable2DSimulator':[np.array([8.05, 9.66]), np.array([-8.05, 9.66]), np.array([8.05, -9.66]), np.array([-8.05, -9.66])]\n",
    "}\n",
    "\n",
    "plotter.plot_local_minima(minima)"
   ]
  },
  {
   "cell_type": "code",
   "execution_count": null,
   "id": "8b2d5bb9-9096-4ee4-8ecb-26977da46542",
   "metadata": {},
   "outputs": [],
   "source": []
  }
 ],
 "metadata": {
  "kernelspec": {
   "display_name": "Python 3 (ipykernel)",
   "language": "python",
   "name": "python3"
  },
  "language_info": {
   "codemirror_mode": {
    "name": "ipython",
    "version": 3
   },
   "file_extension": ".py",
   "mimetype": "text/x-python",
   "name": "python",
   "nbconvert_exporter": "python",
   "pygments_lexer": "ipython3",
   "version": "3.10.9"
  }
 },
 "nbformat": 4,
 "nbformat_minor": 5
}
